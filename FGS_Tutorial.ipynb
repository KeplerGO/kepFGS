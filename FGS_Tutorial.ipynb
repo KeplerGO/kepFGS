{
 "cells": [
  {
   "cell_type": "markdown",
   "metadata": {},
   "source": [
    "Fine Guidance Sensor Data\n",
    "===============\n",
    "\n",
    "The Kepler spacecraft uses Fine Guidance Sensors (FGS) to keep the pointing of the telescope fixed. There are 4 small sensors in the corner of the focal plane. The sensors use guide stars which are chosen based on being bright and with low variability. These stars are measured very rapidly using a short exposure (104ms) with a variable time sampling. Measurements are taken on average every 30 seconds, with some observations being taken on even shorter time frames. The full documentation on the FGS data can be found [here](https://archive.stsci.edu/missions/k2/fgs/flc/fgs_doc_KSCI-19112-002.pdf)."
   ]
  },
  {
   "cell_type": "markdown",
   "metadata": {},
   "source": [
    "Insert picture of detector here\n",
    "\n",
    "FGS Module Structure\n",
    "--------------------\n",
    "There are 4 FGS Modules on the focal plane, one in each corner. There are numbered as 01, 05, 21 and 25 (from the top, left to right). For Kepler there were 10 guide stars per module, for K2 only one guide star is used per module."
   ]
  },
  {
   "cell_type": "markdown",
   "metadata": {},
   "source": [
    "FGS Data\n",
    "--------\n",
    "Data consist of *centroid* and *flux* data at each read out time. The pixel level data are saved only in rare cases as a Full Frame Image (FFI). Data is provided raw from simple aperture photometry. These are given in simple *.csv* files.\n",
    "\n",
    "The FGS data from the original Kepler mission and from K2 are now available at MAST [here](https://archive.stsci.edu/missions/kepler/fgs/) and [here](https://archive.stsci.edu/missions/k2/fgs/). There are **44** unique Kepler FGS targets and **76** unique K2 FGS targets. Both archives contain \n",
    "* FFI\n",
    "* FGS Light Curves\n",
    "* Ancilliary FGS Reference table\n",
    "\n",
    "The Ancilliary FGS Reference table can be used to find the positions of each target on each FGS module"
   ]
  },
  {
   "cell_type": "markdown",
   "metadata": {},
   "source": [
    "Tutorial\n",
    "--------\n",
    "In this tutorial we will download and plot the FGS data. The FGS.py file supplied with this tutorial can be used to do this. First import the FGS routines."
   ]
  },
  {
   "cell_type": "code",
   "execution_count": 1,
   "metadata": {
    "collapsed": true
   },
   "outputs": [],
   "source": [
    "import FGS\n",
    "import matplotlib.pyplot as plt\n",
    "%matplotlib inline\n",
    "\n",
    "datadir=''"
   ]
  },
  {
   "cell_type": "markdown",
   "metadata": {},
   "source": [
    "**Plotting Ancilliary Data**\n",
    "\n",
    "We can first take a look at the ancilliary data to find out more about the FGS targets. The 'table' function will download and consolidate the FGS ancilliary data. Below we plot the magnitude distribution of the FGS stars. K2 requires brighter guide stars in general."
   ]
  },
  {
   "cell_type": "code",
   "execution_count": 2,
   "metadata": {
    "collapsed": false
   },
   "outputs": [
    {
     "name": "stdout",
     "output_type": "stream",
     "text": [
      "Available tags:  ['KEPLER_ID', 'RA', 'DEC', 'KEPMAG', 'mission']\n"
     ]
    },
    {
     "data": {
      "text/plain": [
       "<matplotlib.text.Text at 0x114e31cd0>"
      ]
     },
     "execution_count": 2,
     "metadata": {},
     "output_type": "execute_result"
    },
    {
     "data": {
      "image/png": "[encoded data removed]",
      "text/plain": [
       "<matplotlib.figure.Figure at 0x111092b90>"
      ]
     },
     "metadata": {},
     "output_type": "display_data"
    }
   ],
   "source": [
    "tab=FGS.table()  #Use the 'table' function to grab the FGS data\n",
    "print 'Available tags: ',list(tab.keys())\n",
    "\n",
    "plt.hist(tab.KEPMAG[tab.mission=='kepler'],30\n",
    "             ,alpha=0.5,label='kepler')\n",
    "plt.hist(tab.KEPMAG[tab.mission=='k2'],30\n",
    "             ,alpha=0.5,label='k2')\n",
    "plt.legend()\n",
    "plt.title('Kepler Magnitude Distribution')\n",
    "plt.ylabel('Frequency')\n",
    "plt.xlabel('KepMag')"
   ]
  },
  {
   "cell_type": "markdown",
   "metadata": {},
   "source": [
    "The table also contains the Kepler ID's of each of the FGS targets."
   ]
  },
  {
   "cell_type": "markdown",
   "metadata": {},
   "source": [
    "**Obtain full FGS data**\n",
    "\n",
    "The FGS data can be quite large, due to the high time sampling. The Kepler FGS data is much larger as each file contains 10 stars. The 'get_data' function automatically downloads FGS data to a data directory. You can specify to download just one quarter if you have limited time or disk space."
   ]
  },
  {
   "cell_type": "code",
   "execution_count": 3,
   "metadata": {
    "collapsed": false
   },
   "outputs": [
    {
     "name": "stdout",
     "output_type": "stream",
     "text": [
      "Downloading Quarter 1\n"
     ]
    },
    {
     "name": "stderr",
     "output_type": "stream",
     "text": [
      "Test: 100% |########################################| Time: 0:00:22   1.31 MB/s\n"
     ]
    }
   ],
   "source": [
    "#Get the full Kepler FGS data from MAST, with every quarter.\n",
    "#(This will take several minutes to download)\n",
    "#FGS.get_data(datadir,mission='kepler')\n",
    "\n",
    "\n",
    "#Get the first campaign of K2 FGS data from MAST\n",
    "FGS.get_data(datadir,mission='k2',quarters=1)"
   ]
  },
  {
   "cell_type": "markdown",
   "metadata": {},
   "source": [
    "**Plot FGS Light Curve**\n",
    "\n",
    "Using the 'gen_lc' routine you can generate an FGS light curve. This routine\n",
    "\n",
    "* Cleans bad pointings\n",
    "* Removes a polynomial trend from flux\n",
    "* Sigma clips flux\n",
    "* Stitches quarters together\n",
    "\n",
    "By specifying the 'quarters' keyword you can select only the quarters that are relevant to your work. These will automatically download if they cannot be found in the data directory."
   ]
  },
  {
   "cell_type": "code",
   "execution_count": null,
   "metadata": {
    "collapsed": false,
    "scrolled": true
   },
   "outputs": [],
   "source": [
    "#Create a lightcurve for Kepler ID 7394260 using quarters 3,4 and 5\n",
    "ID=7394260\n",
    "time,flux,column,row=FGS.gen_lc(datadir,ID=ID,quarters=[3,4,5])\n",
    "plt.figure()\n",
    "plt.scatter(time,flux,s=0.1)\n",
    "plt.xlabel('Time (days)')\n",
    "plt.ylabel('Normalised Flux')\n",
    "plt.title('Kepler ID '+str(ID))"
   ]
  },
  {
   "cell_type": "code",
   "execution_count": 5,
   "metadata": {
    "collapsed": false
   },
   "outputs": [
    {
     "name": "stdout",
     "output_type": "stream",
     "text": [
      "Downloading Quarter 0\n"
     ]
    },
    {
     "name": "stderr",
     "output_type": "stream",
     "text": [
      "Test: 100% |########################################| Time: 0:00:08   2.39 MB/s\n"
     ]
    },
    {
     "data": {
      "text/plain": [
       "<matplotlib.text.Text at 0x122cc7910>"
      ]
     },
     "execution_count": 5,
     "metadata": {},
     "output_type": "execute_result"
    },
    {
     "data": {
      "image/png": "[encoded data removed]",
      "text/plain": [
       "<matplotlib.figure.Figure at 0x1229dde50>"
      ]
     },
     "metadata": {},
     "output_type": "display_data"
    }
   ],
   "source": [
    "#Create a lightcurve for K2 star 207187836\n",
    "ID=207187836\n",
    "time,flux,column,row=FGS.gen_lc(datadir,ID=ID)\n",
    "plt.figure()\n",
    "plt.scatter(time,flux,s=0.1)\n",
    "plt.xlabel('Time (days)')\n",
    "plt.ylabel('Normalised Flux')\n",
    "plt.title('Kepler ID '+str(ID))"
   ]
  },
  {
   "cell_type": "code",
   "execution_count": null,
   "metadata": {
    "collapsed": true
   },
   "outputs": [],
   "source": []
  },
  {
   "cell_type": "code",
   "execution_count": null,
   "metadata": {
    "collapsed": true
   },
   "outputs": [],
   "source": []
  }
 ],
 "metadata": {
  "kernelspec": {
   "display_name": "Python 2",
   "language": "python",
   "name": "python2"
  },
  "language_info": {
   "codemirror_mode": {
    "name": "ipython",
    "version": 2
   },
   "file_extension": ".py",
   "mimetype": "text/x-python",
   "name": "python",
   "nbconvert_exporter": "python",
   "pygments_lexer": "ipython2",
   "version": "2.7.11"
  }
 },
 "nbformat": 4,
 "nbformat_minor": 2
}
